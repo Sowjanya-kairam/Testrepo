{
 "cells": [
  {
   "cell_type": "markdown",
   "id": "eb8f073f-963e-4753-8c2c-fb41848398fb",
   "metadata": {},
   "source": [
    "# Data Science Tools and Ecosystem"
   ]
  },
  {
   "cell_type": "markdown",
   "id": "24ca7139-a142-4b7c-8f4f-3938eb3fdcf2",
   "metadata": {},
   "source": [
    "## In this notebook, Data Science Tools and Ecosystem are summarized."
   ]
  },
  {
   "cell_type": "markdown",
   "id": "e540d695-6579-4d41-a16d-d45ac0952f8d",
   "metadata": {},
   "source": [
    "## Some of the popular languages that Data Scientists use are:\n",
    "1. Python\n",
    "2. R\n",
    "3. SQL"
   ]
  },
  {
   "cell_type": "markdown",
   "id": "d40e855d-2bad-4802-8d40-d69b9f496cf4",
   "metadata": {},
   "source": [
    "## Some of the commonly used libraries used by Data Scientists include:\n",
    "1. Matplotlib\n",
    "2. Pandas\n",
    "3. TensorFlow\n",
    "4. Numpy"
   ]
  },
  {
   "cell_type": "markdown",
   "id": "489ebb10-3d58-401b-9245-f156eb6370bd",
   "metadata": {},
   "source": [
    "## Data Science Tools\n",
    "1. Apache Haddop\n",
    "2. Jupyter Notebook\n",
    "3. Power BI\n",
    "4. Apache Spark"
   ]
  },
  {
   "cell_type": "markdown",
   "id": "75fb2df8-84ee-43a3-91f9-6efd0e2a0c70",
   "metadata": {},
   "source": [
    "## Below are a few examples of evaluating arithmetic expressions in Python\n",
    "An arithmetic expression is a combination of numbers, variables, and mathematical operators (+, -, *, /) that represents a calculation. \n",
    "\n",
    "**Basic Examples:**\n",
    "\n",
    "* **Addition:** 5 + 3 = 8\n",
    "* **Subtraction:** 10 - 2 = 8\n",
    "* **Multiplication:** 4 * 2 = 8\n",
    "* **Division:** 12 / 3 = 4\n",
    "\n",
    "**More Complex Examples:** \n",
    "\n",
    "* **Mixed operations:** (2 + 3) * 5 = 25\n",
    "* **Exponents:** 2^3 = 8\n",
    "* **Parentheses:** (10 - 2) / 4 = 2 "
   ]
  },
  {
   "cell_type": "code",
   "execution_count": 3,
   "id": "49259a74-2792-4c73-80a8-725ba92ea8b6",
   "metadata": {},
   "outputs": [
    {
     "data": {
      "text/plain": [
       "17"
      ]
     },
     "execution_count": 3,
     "metadata": {},
     "output_type": "execute_result"
    }
   ],
   "source": [
    "#This a simple arithmetic expression to mutiply then add integers\n",
    "(3*4)+5\n"
   ]
  },
  {
   "cell_type": "code",
   "execution_count": 4,
   "id": "6fcade09-6742-405a-80eb-1227d1a7015e",
   "metadata": {},
   "outputs": [
    {
     "name": "stdout",
     "output_type": "stream",
     "text": [
      "3.3333333333333335\n"
     ]
    }
   ],
   "source": [
    "#This will convert 200 minutes to hours by diving by 60\n",
    "mnts=200\n",
    "hrs=mnts/60\n",
    "print(hrs)"
   ]
  },
  {
   "cell_type": "markdown",
   "id": "25adaa54-b617-495f-96dc-00444a6cfebe",
   "metadata": {},
   "source": [
    "# List popular languages for Data Science\n",
    "**Objectives:**\n",
    "* To understand the basic concepts of data analysis. \n",
    "* Learn how to clean and prepare data for analysis. \n",
    "* Explore different data visualization techniques.\n",
    "* Apply statistical methods to draw meaningful insights from data. \n",
    "* Practice using Python libraries for data manipulation and analysis. \n"
   ]
  },
  {
   "cell_type": "markdown",
   "id": "c3693e63-2c24-4334-a37d-8262c3923bff",
   "metadata": {},
   "source": [
    "### Author\n",
    "Sowjanya Kairam"
   ]
  },
  {
   "cell_type": "code",
   "execution_count": null,
   "id": "72d62645-3003-4f6f-80de-b07122233b99",
   "metadata": {},
   "outputs": [],
   "source": []
  }
 ],
 "metadata": {
  "kernelspec": {
   "display_name": "Python 3 (ipykernel)",
   "language": "python",
   "name": "python3"
  },
  "language_info": {
   "codemirror_mode": {
    "name": "ipython",
    "version": 3
   },
   "file_extension": ".py",
   "mimetype": "text/x-python",
   "name": "python",
   "nbconvert_exporter": "python",
   "pygments_lexer": "ipython3",
   "version": "3.12.8"
  }
 },
 "nbformat": 4,
 "nbformat_minor": 5
}
